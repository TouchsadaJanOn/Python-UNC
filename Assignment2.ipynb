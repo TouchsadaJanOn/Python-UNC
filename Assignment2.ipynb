{
 "cells": [
  {
   "cell_type": "markdown",
   "metadata": {},
   "source": [
    "# Touchsada Jan On - Assignment 2: Further Development\n",
    "# CS120 - Dean Zeller\n",
    "### Submission Date: October 4th, 2019\n",
    "### Description: The following program implements two problems, Days of a Month, and String Character Summary\n",
    "### Copyright: This program is ©2019 Touchsada Jan On, Dean Zeller, and Dr. Chris Harris. This is original work, without use of outside sources. \n"
   ]
  },
  {
   "cell_type": "markdown",
   "metadata": {},
   "source": [
    "# Problem 1: Days in a Month\n",
    "This program calculates how many days are in a given month and year, taking into account leap years and past/future status."
   ]
  },
  {
   "cell_type": "code",
   "execution_count": 119,
   "metadata": {},
   "outputs": [],
   "source": [
    "monthfile = open(\"month1.txt\", \"r\")\n",
    "month = int(monthfile.readline());\n",
    "year = int(monthfile.readline());\n",
    "monthlist = [\"January\", \"February\", \"March\", \"April\", \"May\", \"June\", \"July\",\n",
    "             \"August\", \"September\", \"October\", \"November\",\"December\"]\n",
    "days = 0\n",
    "if year >= 2019:\n",
    "    exfile = open(\"more19.txt\", \"w\")\n",
    "    for m in [10,12]:\n",
    "        if m == month:\n",
    "            days  += 31           \n",
    "    exfile.write(monthlist[month-1]+\" of\"+ \" \" +str(year) + \" will have \" + str(days)+\" days.\")\n",
    "    exfile.close()\n",
    "if year >= 2019:\n",
    "        exfile = open(\"more11.txt\", \"w\")\n",
    "        if month == 11:\n",
    "            days += 30\n",
    "        exfile.write(monthlist[month-1]+\" of\"+ \" \" +str(year) + \" will have \" + str(days)+\" days.\")\n",
    "        exfile.close()\n",
    "if month == 2:\n",
    "    exfile = open(\"leapmore.txt\", \"w\")\n",
    "    if year%4 == 0:\n",
    "        if year%100 == 0:\n",
    "            if year%400 == 0:\n",
    "                days += 29\n",
    "            else:\n",
    "                days += 28\n",
    "        else:\n",
    "            days += 29\n",
    "    else:\n",
    "        days += 28\n",
    "    exfile.write(monthlist[month-1]+\" of\"+ \" \" +str(year) + \" will have \" + str(days)+\" days.\")\n",
    "    exfile.close()\n",
    "\n",
    "for i in [1,3,5,7,8,10,12]: \n",
    "    exfile = open(\"less31.txt\", \"w\")\n",
    "    if year <= 2018:\n",
    "        if i == month:\n",
    "            days += 31\n",
    "    exfile.write(monthlist[month-1]+\" of\"+ \" \" +str(year) + \" had \" + str(days)+\" days.\")\n",
    "    exfile.close()\n",
    "for i in [4,6,9,11]:\n",
    "    exfile = open(\"less30.txt\", \"w\")\n",
    "    if year <= 2018:\n",
    "        if i == month:\n",
    "            days += 30\n",
    "    exfile.write(monthlist[month-1]+\" of\"+ \" \" +str(year) + \" had \" + str(days)+\" days.\")\n",
    "    exfile.close()\n",
    "            \n",
    "            \n",
    "\n"
   ]
  },
  {
   "cell_type": "markdown",
   "metadata": {},
   "source": [
    "# Problem 2: String Character Summery\n",
    "This program counts the number of consonants, vowels, whitespace, and other characters within a given string."
   ]
  },
  {
   "cell_type": "code",
   "execution_count": 121,
   "metadata": {},
   "outputs": [],
   "source": [
    "fileHandle = open(\"input1.txt\",\"r\")\n",
    "string = fileHandle.read();\n",
    "con = 0\n",
    "vow = 0\n",
    "digits = 0\n",
    "spaces = 0\n",
    "other = 0\n",
    "vowels = \"aeiouAEIOU\"\n",
    "for i in string:\n",
    "    if i >= 'a' and i <= 'z'or i >= 'A' and i <= 'Z':\n",
    "        con += 1\n",
    "        for j in vowels:\n",
    "                    if j == i:\n",
    "                        vow += 1\n",
    "                        con -= 1\n",
    "    elif i >= '0' and i <= '9':\n",
    "        digits += 1\n",
    "    elif i == \" \":\n",
    "        spaces += 1\n",
    "    else:\n",
    "        other += 1\n",
    "fileHandle.close()\n",
    "new = open(\"Output1.txt\", \"w\")\n",
    "new.write(str(string))\n",
    "new.write(\"\\n\"+str(con) + \" consonants\")\n",
    "new.write(\"\\n\"+str(vow) + \" vowels\")\n",
    "new.write(\"\\n\"+str(digits) + \" digits\")\n",
    "new.write(\"\\n\"+str(spaces) + \" spaces\")\n",
    "new.write(\"\\n\"+str(other) + \" other\")\n",
    "\n",
    "new.close()\n",
    "\n",
    "\n",
    "    \n",
    "\n"
   ]
  },
  {
   "cell_type": "code",
   "execution_count": null,
   "metadata": {},
   "outputs": [],
   "source": []
  },
  {
   "cell_type": "code",
   "execution_count": null,
   "metadata": {},
   "outputs": [],
   "source": []
  }
 ],
 "metadata": {
  "kernelspec": {
   "display_name": "Python 3",
   "language": "python",
   "name": "python3"
  },
  "language_info": {
   "codemirror_mode": {
    "name": "ipython",
    "version": 3
   },
   "file_extension": ".py",
   "mimetype": "text/x-python",
   "name": "python",
   "nbconvert_exporter": "python",
   "pygments_lexer": "ipython3",
   "version": "3.7.3"
  }
 },
 "nbformat": 4,
 "nbformat_minor": 2
}
