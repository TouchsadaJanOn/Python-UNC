{
 "cells": [
  {
   "cell_type": "markdown",
   "metadata": {},
   "source": [
    "# Touchsada Jan On - Assignment 1: Basic Calculations\n",
    "# CS120 Dean Zeller\n",
    "### Submission Date: Friday, September 13th, 2019\n",
    "\n",
    "### Description: The following program performs basic calculations, including addition of three numbers and calculation of the avaerage.\n",
    "\n",
    "### Copyright: This program is © 2019 Touchsada Jan On, Dean Zeller, and Dr. Chris Harris. This is original work, without use of outside sources. "
   ]
  },
  {
   "cell_type": "markdown",
   "metadata": {},
   "source": [
    "# Title and Introduction\n",
    "This section of code gathers the user's name and name of the study, and informs the user of what the program will accomplish.\n"
   ]
  },
  {
   "cell_type": "code",
   "execution_count": 1,
   "metadata": {},
   "outputs": [
    {
     "name": "stdout",
     "output_type": "stream",
     "text": [
      "Welcome to Assignment 1, Basic Calculations\n",
      "\n",
      "Please enter your name => Touchsada Jan On\n",
      "Hello, Touchsada Jan On\n",
      "\n",
      "Please enter the title of the study => My First Study\n",
      "Study title set to My First Study\n",
      "\n",
      "Introduction:\n",
      "This program will calculate basic statistics on three integer numbers.\n",
      "It will run in three phases:\n",
      "    Phase 1 - Gather input from user\n",
      "    Phase 2 - Calculate sum and average\n",
      "    Phase 3 - Output results\n",
      "\n"
     ]
    }
   ],
   "source": [
    "print(\"Welcome to Assignment 1, Basic Calculations\")\n",
    "print()\n",
    "userName = input(\"Please enter your name => \")\n",
    "print(\"Hello,\" , userName)\n",
    "print()\n",
    "studyTitle = input(\"Please enter the title of the study => \")\n",
    "print(\"Study title set to\", studyTitle)\n",
    "print()\n",
    "print(\"Introduction:\")\n",
    "print(\"This program will calculate basic statistics on three integer numbers.\")\n",
    "print(\"It will run in three phases:\")\n",
    "print(\"    Phase 1 - Gather input from user\")\n",
    "print(\"    Phase 2 - Calculate sum and average\")\n",
    "print(\"    Phase 3 - Output results\")\n",
    "print()\n"
   ]
  },
  {
   "cell_type": "markdown",
   "metadata": {},
   "source": [
    "# Phase 1 - Gather Input\n",
    "This phrase gathers the necessary input from the user. Three integer values are read, storing them in num1, num2, and num3."
   ]
  },
  {
   "cell_type": "code",
   "execution_count": 1,
   "metadata": {},
   "outputs": [
    {
     "name": "stdout",
     "output_type": "stream",
     "text": [
      "Phase 1: Gather user input\n",
      "--------------------------\n",
      "Please enter three numbers. Only enter integer values, as error-checking has not yet been implemented.\n",
      "   First number => 5\n",
      "   Second number => 9\n",
      "   Third number => 12\n",
      "\n",
      "Number entered: =>  5 9 12\n",
      "Phase 1 complete\n"
     ]
    }
   ],
   "source": [
    "print(\"Phase 1: Gather user input\")\n",
    "print(\"--------------------------\")\n",
    "print(\"Please enter three numbers. Only enter integer values, as error-checking has not yet been implemented.\")\n",
    "response = input(\"   First number => \")\n",
    "num1 = int(response)\n",
    "response = input(\"   Second number => \")\n",
    "num2 = int(response)\n",
    "response = input(\"   Third number => \")\n",
    "num3 = int(response)\n",
    "print()\n",
    "print(\"Number entered: => \", num1, num2, num3)\n",
    "print(\"Phase 1 complete\")\n",
    "\n"
   ]
  },
  {
   "cell_type": "markdown",
   "metadata": {},
   "source": [
    "# Phase 2 - Perform Calculations\n",
    "This section of code performs the necessary calculations, including calculating the total and average of the three numbers entered in Phase 1."
   ]
  },
  {
   "cell_type": "code",
   "execution_count": 3,
   "metadata": {},
   "outputs": [
    {
     "name": "stdout",
     "output_type": "stream",
     "text": [
      "Phase 2: Perform calculations\n",
      "-------------------------------\n",
      "   Calculated total 26\n",
      "   Calculated average 8.666666666666666\n",
      "Phase 2 complete\n"
     ]
    }
   ],
   "source": [
    "print(\"Phase 2: Perform calculations\")\n",
    "print(\"-------------------------------\")\n",
    "total = num1 + num2 + num3\n",
    "print(\"   Calculated total\", total)\n",
    "average = (total/3)\n",
    "print(\"   Calculated average\", average)\n",
    "print(\"Phase 2 complete\")"
   ]
  },
  {
   "cell_type": "markdown",
   "metadata": {},
   "source": [
    "# Phase 3 - Output Results\n",
    "This phase creates a report for output."
   ]
  },
  {
   "cell_type": "code",
   "execution_count": 4,
   "metadata": {},
   "outputs": [
    {
     "name": "stdout",
     "output_type": "stream",
     "text": [
      "Phase 3: Output table\n",
      "---------------------\n",
      "\n",
      "Study:  My First Study\n",
      "Researcher:  Touchsada Jan On\n",
      "Data:  5 9 12\n",
      "Total:  26\n",
      "Average:  8.666666666666666\n",
      "\n",
      "Phase 3 complete\n",
      "\n",
      "Existing program\n"
     ]
    }
   ],
   "source": [
    "print(\"Phase 3: Output table\")\n",
    "print(\"---------------------\")\n",
    "print()\n",
    "print(\"Study: \", studyTitle)\n",
    "print(\"Researcher: \", userName)\n",
    "print(\"Data: \", num1, num2, num3) \n",
    "print(\"Total: \", total)\n",
    "print(\"Average: \", average)\n",
    "print()\n",
    "print(\"Phase 3 complete\")\n",
    "print()\n",
    "print(\"Existing program\")"
   ]
  },
  {
   "cell_type": "code",
   "execution_count": null,
   "metadata": {
    "collapsed": true
   },
   "outputs": [],
   "source": []
  }
 ],
 "metadata": {
  "kernelspec": {
   "display_name": "Python 3",
   "language": "python",
   "name": "python3"
  },
  "language_info": {
   "codemirror_mode": {
    "name": "ipython",
    "version": 3
   },
   "file_extension": ".py",
   "mimetype": "text/x-python",
   "name": "python",
   "nbconvert_exporter": "python",
   "pygments_lexer": "ipython3",
   "version": "3.6.1"
  }
 },
 "nbformat": 4,
 "nbformat_minor": 2
}
